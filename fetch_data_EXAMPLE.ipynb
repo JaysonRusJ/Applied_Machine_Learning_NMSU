{
 "cells": [
  {
   "cell_type": "code",
   "execution_count": 1,
   "metadata": {},
   "outputs": [],
   "source": [
    "import sys\n",
    "from fetch_data import data_fetcher"
   ]
  },
  {
   "attachments": {},
   "cell_type": "markdown",
   "metadata": {},
   "source": [
    "## Walmart \n",
    "#### No normalization or PCA"
   ]
  },
  {
   "cell_type": "code",
   "execution_count": 2,
   "metadata": {},
   "outputs": [
    {
     "name": "stderr",
     "output_type": "stream",
     "text": [
      "c:\\Users\\brock\\OneDrive\\Desktop\\AML487\\Project\\Applied_Machine_Learning_NMSU\\fetch_data.py:29: FutureWarning: Series.dt.weekofyear and Series.dt.week have been deprecated. Please use Series.dt.isocalendar().week instead.\n",
      "  feat_stores['Week'] = feat_stores['Date'].dt.week\n"
     ]
    },
    {
     "name": "stdout",
     "output_type": "stream",
     "text": [
      "mean:\n",
      " Store             22.197364\n",
      "Dept              44.285623\n",
      "IsHoliday          0.070363\n",
      "MarkDown1       2587.925743\n",
      "MarkDown2        882.988252\n",
      "MarkDown3        473.406305\n",
      "MarkDown4       1081.041315\n",
      "MarkDown5       1670.817201\n",
      "Size          136750.859457\n",
      "Week              25.847353\n",
      "Year            2010.969417\n",
      "WeekOfYear        25.847353\n",
      "dtype: float64\n",
      "st dev:\n",
      " Store            12.784537\n",
      "Dept             30.494435\n",
      "IsHoliday         0.255758\n",
      "MarkDown1      6048.888149\n",
      "MarkDown2      5084.885805\n",
      "MarkDown3      5583.096939\n",
      "MarkDown4      3892.040714\n",
      "MarkDown5      4239.968669\n",
      "Size          60973.704334\n",
      "Week             14.156797\n",
      "Year              0.796473\n",
      "WeekOfYear       14.156797\n",
      "dtype: float64\n"
     ]
    }
   ],
   "source": [
    "data = data_fetcher.fetch_walmart(norm=False, pca=False, n_components=0, n_degrees=1)\n",
    "\n",
    "# data includes [X_train, X_test, y_test, y_train]\n",
    "x_train = data[0]\n",
    "print('mean:\\n', x_train.mean())\n",
    "print('st dev:\\n', x_train.std())"
   ]
  },
  {
   "attachments": {},
   "cell_type": "markdown",
   "metadata": {},
   "source": [
    "#### Normalization"
   ]
  },
  {
   "cell_type": "code",
   "execution_count": 3,
   "metadata": {},
   "outputs": [
    {
     "name": "stderr",
     "output_type": "stream",
     "text": [
      "c:\\Users\\brock\\OneDrive\\Desktop\\AML487\\Project\\Applied_Machine_Learning_NMSU\\fetch_data.py:29: FutureWarning: Series.dt.weekofyear and Series.dt.week have been deprecated. Please use Series.dt.isocalendar().week instead.\n",
      "  feat_stores['Week'] = feat_stores['Date'].dt.week\n"
     ]
    },
    {
     "name": "stdout",
     "output_type": "stream",
     "text": [
      "mean:\n",
      " 9.03504339899813e-15\n",
      "st dev:\n",
      " 0.9999999999999998\n"
     ]
    }
   ],
   "source": [
    "# Initialize datafetcher object with walmart\n",
    "data = data_fetcher.fetch_walmart(norm=True, pca=False, n_components=0, n_degrees=1)\n",
    "\n",
    "# obj.data includes [X_train, X_test, y_test, y_train]\n",
    "x_train = data[0]\n",
    "print('mean:\\n', x_train.mean())\n",
    "print('st dev:\\n', x_train.std())"
   ]
  },
  {
   "attachments": {},
   "cell_type": "markdown",
   "metadata": {},
   "source": [
    "#### Normalization and PCA"
   ]
  },
  {
   "cell_type": "code",
   "execution_count": 4,
   "metadata": {},
   "outputs": [
    {
     "name": "stderr",
     "output_type": "stream",
     "text": [
      "c:\\Users\\brock\\OneDrive\\Desktop\\AML487\\Project\\Applied_Machine_Learning_NMSU\\fetch_data.py:29: FutureWarning: Series.dt.weekofyear and Series.dt.week have been deprecated. Please use Series.dt.isocalendar().week instead.\n",
      "  feat_stores['Week'] = feat_stores['Date'].dt.week\n"
     ]
    },
    {
     "name": "stdout",
     "output_type": "stream",
     "text": [
      "mean:\n",
      " -2.5038830728566624e-17\n",
      "st dev:\n",
      " 1.270687690027996\n"
     ]
    }
   ],
   "source": [
    "# Initialize datafetcher object with walmart\n",
    "data = data_fetcher.fetch_walmart(norm=True, pca=True, n_components=5, n_degrees=1)\n",
    "\n",
    "# obj.data includes [X_train, X_test, y_test, y_train]\n",
    "x_train = data[0]\n",
    "print('mean:\\n', x_train.mean())\n",
    "print('st dev:\\n', x_train.std())"
   ]
  },
  {
   "cell_type": "code",
   "execution_count": null,
   "metadata": {},
   "outputs": [],
   "source": []
  },
  {
   "attachments": {},
   "cell_type": "markdown",
   "metadata": {},
   "source": [
    "## Rossmann\n",
    "#### No normalization or PCA"
   ]
  },
  {
   "cell_type": "code",
   "execution_count": 5,
   "metadata": {},
   "outputs": [
    {
     "name": "stderr",
     "output_type": "stream",
     "text": [
      "c:\\Users\\brock\\OneDrive\\Desktop\\AML487\\Project\\Applied_Machine_Learning_NMSU\\fetch_data.py:67: DtypeWarning: Columns (7) have mixed types. Specify dtype option on import or set low_memory=False.\n",
      "  train = pd.read_csv('../rossmann-store-sales/train.csv')\n"
     ]
    },
    {
     "name": "stdout",
     "output_type": "stream",
     "text": [
      "['Store', 'DayOfWeek', 'Sales', 'Customers', 'Open', 'Promo', 'StateHoliday', 'SchoolHoliday', 'StoreType', 'Assortment', 'CompetitionDistance', 'CompetitionOpenSinceMonth', 'CompetitionOpenSinceYear', 'Promo2', 'Promo2SinceWeek', 'Promo2SinceYear', 'Year', 'Month', 'Day', 'WeekOfYear']\n",
      "mean:\n",
      " Store                         558.738214\n",
      "DayOfWeek                       3.998277\n",
      "Customers                     632.964891\n",
      "Open                            0.829869\n",
      "Promo                           0.381481\n",
      "StateHoliday                    0.045375\n",
      "SchoolHoliday                   0.178203\n",
      "StoreType                       2.205650\n",
      "Assortment                      1.935004\n",
      "CompetitionDistance          5416.909132\n",
      "CompetitionOpenSinceMonth       4.928867\n",
      "CompetitionOpenSinceYear     1370.580603\n",
      "Promo2                          0.500895\n",
      "Promo2SinceWeek                11.664576\n",
      "Promo2SinceYear              1007.675424\n",
      "Year                         2013.832702\n",
      "Month                           5.845862\n",
      "Day                            15.694739\n",
      "WeekOfYear                     23.612934\n",
      "dtype: float64\n",
      "st dev:\n",
      " Store                         321.960450\n",
      "DayOfWeek                       1.998339\n",
      "Customers                     464.191950\n",
      "Open                            0.375748\n",
      "Promo                           0.485751\n",
      "StateHoliday                    0.284174\n",
      "SchoolHoliday                   0.382684\n",
      "StoreType                       1.365211\n",
      "Assortment                      0.993789\n",
      "CompetitionDistance          7719.776234\n",
      "CompetitionOpenSinceMonth       4.283208\n",
      "CompetitionOpenSinceYear      935.195686\n",
      "Promo2                          0.500000\n",
      "Promo2SinceWeek                15.335323\n",
      "Promo2SinceYear              1005.875486\n",
      "Year                            0.777512\n",
      "Month                           3.325717\n",
      "Day                             8.785018\n",
      "WeekOfYear                     14.432029\n",
      "dtype: float64\n"
     ]
    }
   ],
   "source": [
    "# Initialize datafetcher object with walmart\n",
    "data = data_fetcher.fetch_rossmann(norm=False, pca=False, n_components=0, n_degrees=1)\n",
    "\n",
    "# obj.data includes [X_train, X_test, y_test, y_train]\n",
    "x_train = data[0]\n",
    "print('mean:\\n', x_train.mean())\n",
    "print('st dev:\\n', x_train.std())"
   ]
  },
  {
   "attachments": {},
   "cell_type": "markdown",
   "metadata": {},
   "source": [
    "#### Normalization"
   ]
  },
  {
   "cell_type": "code",
   "execution_count": 6,
   "metadata": {},
   "outputs": [
    {
     "name": "stderr",
     "output_type": "stream",
     "text": [
      "c:\\Users\\brock\\OneDrive\\Desktop\\AML487\\Project\\Applied_Machine_Learning_NMSU\\fetch_data.py:67: DtypeWarning: Columns (7) have mixed types. Specify dtype option on import or set low_memory=False.\n",
      "  train = pd.read_csv('../rossmann-store-sales/train.csv')\n"
     ]
    },
    {
     "name": "stdout",
     "output_type": "stream",
     "text": [
      "['Store', 'DayOfWeek', 'Sales', 'Customers', 'Open', 'Promo', 'StateHoliday', 'SchoolHoliday', 'StoreType', 'Assortment', 'CompetitionDistance', 'CompetitionOpenSinceMonth', 'CompetitionOpenSinceYear', 'Promo2', 'Promo2SinceWeek', 'Promo2SinceYear', 'Year', 'Month', 'Day', 'WeekOfYear']\n",
      "mean:\n",
      " -3.426378329403786e-15\n",
      "st dev:\n",
      " 1.0000000000000009\n"
     ]
    }
   ],
   "source": [
    "# Initialize datafetcher object with walmart\n",
    "data = data_fetcher.fetch_rossmann(norm=True, pca=False, n_components=0, n_degrees=1)\n",
    "\n",
    "# obj.data includes [X_train, X_test, y_test, y_train]\n",
    "x_train = data[0]\n",
    "print('mean:\\n', x_train.mean())\n",
    "print('st dev:\\n', x_train.std())"
   ]
  },
  {
   "attachments": {},
   "cell_type": "markdown",
   "metadata": {},
   "source": [
    "#### Normalization and PCA"
   ]
  },
  {
   "cell_type": "code",
   "execution_count": 7,
   "metadata": {},
   "outputs": [
    {
     "name": "stderr",
     "output_type": "stream",
     "text": [
      "c:\\Users\\brock\\OneDrive\\Desktop\\AML487\\Project\\Applied_Machine_Learning_NMSU\\fetch_data.py:67: DtypeWarning: Columns (7) have mixed types. Specify dtype option on import or set low_memory=False.\n",
      "  train = pd.read_csv('../rossmann-store-sales/train.csv')\n"
     ]
    },
    {
     "name": "stdout",
     "output_type": "stream",
     "text": [
      "['Store', 'DayOfWeek', 'Sales', 'Customers', 'Open', 'Promo', 'StateHoliday', 'SchoolHoliday', 'StoreType', 'Assortment', 'CompetitionDistance', 'CompetitionOpenSinceMonth', 'CompetitionOpenSinceYear', 'Promo2', 'Promo2SinceWeek', 'Promo2SinceYear', 'Year', 'Month', 'Day', 'WeekOfYear']\n",
      "mean:\n",
      " -1.3659102034256567e-17\n",
      "st dev:\n",
      " 1.4409965103598843\n"
     ]
    }
   ],
   "source": [
    "# Initialize datafetcher object with walmart\n",
    "data = data_fetcher.fetch_rossmann(norm=True, pca=True, n_components=5, n_degrees=1)\n",
    "\n",
    "# obj.data includes [X_train, X_test, y_test, y_train]\n",
    "x_train = data[0]\n",
    "print('mean:\\n', x_train.mean())\n",
    "print('st dev:\\n', x_train.std())"
   ]
  },
  {
   "attachments": {},
   "cell_type": "markdown",
   "metadata": {},
   "source": [
    "#### Polynomial Features (Quadratic)"
   ]
  },
  {
   "cell_type": "code",
   "execution_count": 8,
   "metadata": {},
   "outputs": [
    {
     "name": "stderr",
     "output_type": "stream",
     "text": [
      "c:\\Users\\brock\\OneDrive\\Desktop\\AML487\\Project\\Applied_Machine_Learning_NMSU\\fetch_data.py:29: FutureWarning: Series.dt.weekofyear and Series.dt.week have been deprecated. Please use Series.dt.isocalendar().week instead.\n",
      "  feat_stores['Week'] = feat_stores['Date'].dt.week\n"
     ]
    },
    {
     "name": "stdout",
     "output_type": "stream",
     "text": [
      "mean:\n",
      " 1.4183068571668236e-15\n",
      "st dev:\n",
      " 0.9999999999998959\n"
     ]
    }
   ],
   "source": [
    "## Transformation\n",
    "data = data_fetcher.fetch_walmart(norm=True, pca=False, n_components=0, n_degrees=2)\n",
    "\n",
    "# obj.data includes [X_train, X_test, y_test, y_train]\n",
    "x_train = data[0]\n",
    "print('mean:\\n', x_train.mean())\n",
    "print('st dev:\\n', x_train.std())"
   ]
  }
 ],
 "metadata": {
  "kernelspec": {
   "display_name": "Python 3",
   "language": "python",
   "name": "python3"
  },
  "language_info": {
   "codemirror_mode": {
    "name": "ipython",
    "version": 3
   },
   "file_extension": ".py",
   "mimetype": "text/x-python",
   "name": "python",
   "nbconvert_exporter": "python",
   "pygments_lexer": "ipython3",
   "version": "3.10.5"
  },
  "orig_nbformat": 4
 },
 "nbformat": 4,
 "nbformat_minor": 2
}
