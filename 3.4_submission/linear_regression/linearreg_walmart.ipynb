{
 "cells": [
  {
   "cell_type": "code",
   "execution_count": 1,
   "metadata": {},
   "outputs": [],
   "source": [
    "import pandas as pd\n",
    "import numpy as np\n",
    "import sys\n"
   ]
  },
  {
   "attachments": {},
   "cell_type": "markdown",
   "metadata": {},
   "source": [
    "## Import Data"
   ]
  },
  {
   "cell_type": "code",
   "execution_count": 2,
   "metadata": {},
   "outputs": [],
   "source": [
    "features = pd.read_csv('../walmart-recruiting-store-sales-forecasting/features/features.csv')\n",
    "\n",
    "train = pd.read_csv('../walmart-recruiting-store-sales-forecasting/train/train.csv')\n",
    "train['Date'] = pd.to_datetime(train['Date'])\n",
    "\n",
    "test = pd.read_csv('../walmart-recruiting-store-sales-forecasting/test/test.csv')\n",
    "test['Date'] = pd.to_datetime(test['Date'])\n",
    "\n",
    "stores = pd.read_csv('../walmart-recruiting-store-sales-forecasting/stores.csv')"
   ]
  },
  {
   "cell_type": "code",
   "execution_count": 3,
   "metadata": {},
   "outputs": [
    {
     "name": "stdout",
     "output_type": "stream",
     "text": [
      "   Store        Date  Temperature  Fuel_Price  MarkDown1  MarkDown2  \\\n",
      "0      1  2010-02-05        42.31       2.572        NaN        NaN   \n",
      "1      1  2010-02-12        38.51       2.548        NaN        NaN   \n",
      "2      1  2010-02-19        39.93       2.514        NaN        NaN   \n",
      "3      1  2010-02-26        46.63       2.561        NaN        NaN   \n",
      "4      1  2010-03-05        46.50       2.625        NaN        NaN   \n",
      "\n",
      "   MarkDown3  MarkDown4  MarkDown5         CPI  Unemployment  IsHoliday  \n",
      "0        NaN        NaN        NaN  211.096358         8.106      False  \n",
      "1        NaN        NaN        NaN  211.242170         8.106       True  \n",
      "2        NaN        NaN        NaN  211.289143         8.106      False  \n",
      "3        NaN        NaN        NaN  211.319643         8.106      False  \n",
      "4        NaN        NaN        NaN  211.350143         8.106      False  \n",
      "------------------------------------------------------------/n\n",
      "   Store Type    Size\n",
      "0      1    A  151315\n",
      "1      2    A  202307\n",
      "2      3    B   37392\n",
      "3      4    A  205863\n",
      "4      5    B   34875\n",
      "------------------------------------------------------------/n\n",
      "   Store  Dept       Date  Weekly_Sales  IsHoliday\n",
      "0      1     1 2010-02-05      24924.50      False\n",
      "1      1     1 2010-02-12      46039.49       True\n",
      "2      1     1 2010-02-19      41595.55      False\n",
      "3      1     1 2010-02-26      19403.54      False\n",
      "4      1     1 2010-03-05      21827.90      False\n",
      "------------------------------------------------------------/n\n",
      "   Store  Dept       Date  IsHoliday\n",
      "0      1     1 2012-11-02      False\n",
      "1      1     1 2012-11-09      False\n",
      "2      1     1 2012-11-16      False\n",
      "3      1     1 2012-11-23       True\n",
      "4      1     1 2012-11-30      False\n"
     ]
    }
   ],
   "source": [
    "print(features.head())\n",
    "print(\"------------------------------------------------------------/n\")\n",
    "print(stores.head())\n",
    "print(\"------------------------------------------------------------/n\")\n",
    "print(train.head())\n",
    "print(\"------------------------------------------------------------/n\")\n",
    "print(test.head())"
   ]
  },
  {
   "cell_type": "code",
   "execution_count": 4,
   "metadata": {},
   "outputs": [
    {
     "name": "stdout",
     "output_type": "stream",
     "text": [
      "<class 'pandas.core.frame.DataFrame'>\n",
      "RangeIndex: 421570 entries, 0 to 421569\n",
      "Data columns (total 5 columns):\n",
      " #   Column        Non-Null Count   Dtype         \n",
      "---  ------        --------------   -----         \n",
      " 0   Store         421570 non-null  int64         \n",
      " 1   Dept          421570 non-null  int64         \n",
      " 2   Date          421570 non-null  datetime64[ns]\n",
      " 3   Weekly_Sales  421570 non-null  float64       \n",
      " 4   IsHoliday     421570 non-null  bool          \n",
      "dtypes: bool(1), datetime64[ns](1), float64(1), int64(2)\n",
      "memory usage: 13.3 MB\n",
      "None\n",
      "------------------------------------------------------------/n\n",
      "<class 'pandas.core.frame.DataFrame'>\n",
      "RangeIndex: 115064 entries, 0 to 115063\n",
      "Data columns (total 4 columns):\n",
      " #   Column     Non-Null Count   Dtype         \n",
      "---  ------     --------------   -----         \n",
      " 0   Store      115064 non-null  int64         \n",
      " 1   Dept       115064 non-null  int64         \n",
      " 2   Date       115064 non-null  datetime64[ns]\n",
      " 3   IsHoliday  115064 non-null  bool          \n",
      "dtypes: bool(1), datetime64[ns](1), int64(2)\n",
      "memory usage: 2.7 MB\n",
      "None\n"
     ]
    }
   ],
   "source": [
    "print(train.info())\n",
    "print(\"------------------------------------------------------------/n\")\n",
    "print(test.info())"
   ]
  },
  {
   "attachments": {},
   "cell_type": "markdown",
   "metadata": {},
   "source": [
    "## Data Preprocessing"
   ]
  },
  {
   "cell_type": "code",
   "execution_count": 5,
   "metadata": {},
   "outputs": [
    {
     "name": "stderr",
     "output_type": "stream",
     "text": [
      "C:\\Users\\brock\\AppData\\Local\\Temp\\ipykernel_95744\\1984007329.py:6: FutureWarning: Series.dt.weekofyear and Series.dt.week have been deprecated. Please use Series.dt.isocalendar().week instead.\n",
      "  feat_stores['Week'] = feat_stores['Date'].dt.week\n"
     ]
    },
    {
     "name": "stdout",
     "output_type": "stream",
     "text": [
      "   Store  Dept       Date  Weekly_Sales  IsHoliday  Temperature  Fuel_Price  \\\n",
      "0      1     1 2010-02-05      24924.50      False        42.31       2.572   \n",
      "1      1     1 2010-02-12      46039.49       True        38.51       2.548   \n",
      "2      1     1 2010-02-19      41595.55      False        39.93       2.514   \n",
      "3      1     1 2010-02-26      19403.54      False        46.63       2.561   \n",
      "4      1     1 2010-03-05      21827.90      False        46.50       2.625   \n",
      "\n",
      "   MarkDown1  MarkDown2  MarkDown3  ...  MarkDown5         CPI  Unemployment  \\\n",
      "0        NaN        NaN        NaN  ...        NaN  211.096358         8.106   \n",
      "1        NaN        NaN        NaN  ...        NaN  211.242170         8.106   \n",
      "2        NaN        NaN        NaN  ...        NaN  211.289143         8.106   \n",
      "3        NaN        NaN        NaN  ...        NaN  211.319643         8.106   \n",
      "4        NaN        NaN        NaN  ...        NaN  211.350143         8.106   \n",
      "\n",
      "   Type    Size  Day  Week  Month  Year  WeekOfYear  \n",
      "0     A  151315    5     5      2  2010         5.0  \n",
      "1     A  151315   12     6      2  2010         6.0  \n",
      "2     A  151315   19     7      2  2010         7.0  \n",
      "3     A  151315   26     8      2  2010         8.0  \n",
      "4     A  151315    5     9      3  2010         9.0  \n",
      "\n",
      "[5 rows x 21 columns]\n",
      "------------------------------------------------------------/n\n",
      "   Store  Dept       Date  IsHoliday  Temperature  Fuel_Price  MarkDown1  \\\n",
      "0      1     1 2012-11-02      False        55.32       3.386    6766.44   \n",
      "1      1     1 2012-11-09      False        61.24       3.314   11421.32   \n",
      "2      1     1 2012-11-16      False        52.92       3.252    9696.28   \n",
      "3      1     1 2012-11-23       True        56.23       3.211     883.59   \n",
      "4      1     1 2012-11-30      False        52.34       3.207    2460.03   \n",
      "\n",
      "   MarkDown2  MarkDown3  MarkDown4  MarkDown5         CPI  Unemployment Type  \\\n",
      "0    5147.70      50.82    3639.90    2737.42  223.462779         6.573    A   \n",
      "1    3370.89      40.28    4646.79    6154.16  223.481307         6.573    A   \n",
      "2     292.10     103.78    1133.15    6612.69  223.512911         6.573    A   \n",
      "3       4.17   74910.32     209.91     303.32  223.561947         6.573    A   \n",
      "4        NaN    3838.35     150.57    6966.34  223.610984         6.573    A   \n",
      "\n",
      "     Size  Day  Week  Month  Year  WeekOfYear  \n",
      "0  151315    2    44     11  2012        44.0  \n",
      "1  151315    9    45     11  2012        45.0  \n",
      "2  151315   16    46     11  2012        46.0  \n",
      "3  151315   23    47     11  2012        47.0  \n",
      "4  151315   30    48     11  2012        48.0  \n"
     ]
    }
   ],
   "source": [
    "feat_stores = features.merge(stores, how='inner', on = \"Store\")\n",
    "\n",
    "feat_stores['Date'] = pd.to_datetime(feat_stores['Date'])\n",
    "\n",
    "feat_stores['Day'] = feat_stores['Date'].dt.day\n",
    "feat_stores['Week'] = feat_stores['Date'].dt.week\n",
    "feat_stores['Month'] = feat_stores['Date'].dt.month\n",
    "feat_stores['Year'] = feat_stores['Date'].dt.year\n",
    "feat_stores['WeekOfYear'] = (feat_stores.Date.dt.isocalendar().week)*1.0 \n",
    "\n",
    "train_df = train.merge(feat_stores, how='inner', on = ['Store','Date','IsHoliday']).sort_values(by=['Store','Dept','Date']).reset_index(drop=True)\n",
    "test_df = test.merge(feat_stores, how='inner', on = ['Store','Date','IsHoliday']).sort_values(by = ['Store','Dept','Date']).reset_index(drop=True)\n",
    "\n",
    "print(train_df.head())\n",
    "print(\"------------------------------------------------------------/n\")\n",
    "print(test_df.head())"
   ]
  },
  {
   "cell_type": "code",
   "execution_count": 6,
   "metadata": {},
   "outputs": [
    {
     "name": "stdout",
     "output_type": "stream",
     "text": [
      "<class 'pandas.core.frame.DataFrame'>\n",
      "RangeIndex: 421570 entries, 0 to 421569\n",
      "Data columns (total 21 columns):\n",
      " #   Column        Non-Null Count   Dtype         \n",
      "---  ------        --------------   -----         \n",
      " 0   Store         421570 non-null  int64         \n",
      " 1   Dept          421570 non-null  int64         \n",
      " 2   Date          421570 non-null  datetime64[ns]\n",
      " 3   Weekly_Sales  421570 non-null  float64       \n",
      " 4   IsHoliday     421570 non-null  bool          \n",
      " 5   Temperature   421570 non-null  float64       \n",
      " 6   Fuel_Price    421570 non-null  float64       \n",
      " 7   MarkDown1     150681 non-null  float64       \n",
      " 8   MarkDown2     111248 non-null  float64       \n",
      " 9   MarkDown3     137091 non-null  float64       \n",
      " 10  MarkDown4     134967 non-null  float64       \n",
      " 11  MarkDown5     151432 non-null  float64       \n",
      " 12  CPI           421570 non-null  float64       \n",
      " 13  Unemployment  421570 non-null  float64       \n",
      " 14  Type          421570 non-null  object        \n",
      " 15  Size          421570 non-null  int64         \n",
      " 16  Day           421570 non-null  int64         \n",
      " 17  Week          421570 non-null  int64         \n",
      " 18  Month         421570 non-null  int64         \n",
      " 19  Year          421570 non-null  int64         \n",
      " 20  WeekOfYear    421570 non-null  Float64       \n",
      "dtypes: Float64(1), bool(1), datetime64[ns](1), float64(10), int64(7), object(1)\n",
      "memory usage: 65.1+ MB\n",
      "None\n",
      "------------------------------------------------------------/n\n",
      "<class 'pandas.core.frame.DataFrame'>\n",
      "RangeIndex: 115064 entries, 0 to 115063\n",
      "Data columns (total 20 columns):\n",
      " #   Column        Non-Null Count   Dtype         \n",
      "---  ------        --------------   -----         \n",
      " 0   Store         115064 non-null  int64         \n",
      " 1   Dept          115064 non-null  int64         \n",
      " 2   Date          115064 non-null  datetime64[ns]\n",
      " 3   IsHoliday     115064 non-null  bool          \n",
      " 4   Temperature   115064 non-null  float64       \n",
      " 5   Fuel_Price    115064 non-null  float64       \n",
      " 6   MarkDown1     114915 non-null  float64       \n",
      " 7   MarkDown2     86437 non-null   float64       \n",
      " 8   MarkDown3     105235 non-null  float64       \n",
      " 9   MarkDown4     102176 non-null  float64       \n",
      " 10  MarkDown5     115064 non-null  float64       \n",
      " 11  CPI           76902 non-null   float64       \n",
      " 12  Unemployment  76902 non-null   float64       \n",
      " 13  Type          115064 non-null  object        \n",
      " 14  Size          115064 non-null  int64         \n",
      " 15  Day           115064 non-null  int64         \n",
      " 16  Week          115064 non-null  int64         \n",
      " 17  Month         115064 non-null  int64         \n",
      " 18  Year          115064 non-null  int64         \n",
      " 19  WeekOfYear    115064 non-null  Float64       \n",
      "dtypes: Float64(1), bool(1), datetime64[ns](1), float64(9), int64(7), object(1)\n",
      "memory usage: 16.9+ MB\n",
      "None\n"
     ]
    }
   ],
   "source": [
    "print(train_df.info())\n",
    "print(\"------------------------------------------------------------/n\")\n",
    "print(test_df.info())"
   ]
  },
  {
   "attachments": {},
   "cell_type": "markdown",
   "metadata": {},
   "source": [
    "## Feature Engineering"
   ]
  },
  {
   "cell_type": "code",
   "execution_count": null,
   "metadata": {},
   "outputs": [],
   "source": []
  },
  {
   "attachments": {},
   "cell_type": "markdown",
   "metadata": {},
   "source": [
    "Feature Dropping, Scaling, and Splitting\n",
    "\n",
    "Explaination for which features we drop can be found in the EDA Notebook"
   ]
  },
  {
   "cell_type": "code",
   "execution_count": 7,
   "metadata": {},
   "outputs": [],
   "source": [
    "# Drop Features\n",
    "interm_train = train_df.drop(['Date', 'Day', 'Month', 'Temperature', 'Fuel_Price', 'CPI', 'Unemployment', 'Type']\n",
    "                             , axis=1)\n",
    "\n",
    "target = test_df.drop(['Date', 'Day', 'Month', 'Temperature', 'Fuel_Price', 'CPI', 'Unemployment', 'Type']\n",
    "                      , axis=1)\n",
    "\n",
    "# Fill NaN\n",
    "\n",
    "interm_train=interm_train.fillna(0)\n",
    "target=target.fillna(0)"
   ]
  },
  {
   "cell_type": "code",
   "execution_count": 8,
   "metadata": {},
   "outputs": [],
   "source": [
    "# Build input and target\n",
    "train_cols = interm_train.columns.to_list()\n",
    "train_cols.remove('Weekly_Sales')\n",
    "target_col = 'Weekly_Sales'\n",
    "\n",
    "train_df = interm_train[train_cols].copy()\n",
    "test_df = interm_train[target_col].copy()"
   ]
  },
  {
   "cell_type": "code",
   "execution_count": 9,
   "metadata": {},
   "outputs": [
    {
     "name": "stdout",
     "output_type": "stream",
     "text": [
      "<class 'pandas.core.frame.DataFrame'>\n",
      "RangeIndex: 421570 entries, 0 to 421569\n",
      "Data columns (total 12 columns):\n",
      " #   Column      Non-Null Count   Dtype  \n",
      "---  ------      --------------   -----  \n",
      " 0   Store       421570 non-null  int64  \n",
      " 1   Dept        421570 non-null  int64  \n",
      " 2   IsHoliday   421570 non-null  bool   \n",
      " 3   MarkDown1   421570 non-null  float64\n",
      " 4   MarkDown2   421570 non-null  float64\n",
      " 5   MarkDown3   421570 non-null  float64\n",
      " 6   MarkDown4   421570 non-null  float64\n",
      " 7   MarkDown5   421570 non-null  float64\n",
      " 8   Size        421570 non-null  int64  \n",
      " 9   Week        421570 non-null  int64  \n",
      " 10  Year        421570 non-null  int64  \n",
      " 11  WeekOfYear  421570 non-null  Float64\n",
      "dtypes: Float64(1), bool(1), float64(5), int64(5)\n",
      "memory usage: 36.2 MB\n",
      "None\n",
      "------------------------------------------------------------/n\n",
      "<class 'pandas.core.series.Series'>\n",
      "RangeIndex: 421570 entries, 0 to 421569\n",
      "Series name: Weekly_Sales\n",
      "Non-Null Count   Dtype  \n",
      "--------------   -----  \n",
      "421570 non-null  float64\n",
      "dtypes: float64(1)\n",
      "memory usage: 3.2 MB\n",
      "None\n"
     ]
    }
   ],
   "source": [
    "print(train_df.info())\n",
    "print(\"------------------------------------------------------------/n\")\n",
    "print(test_df.info())"
   ]
  },
  {
   "cell_type": "code",
   "execution_count": 10,
   "metadata": {},
   "outputs": [],
   "source": [
    "# Scaling\n",
    "from sklearn.preprocessing import MinMaxScaler\n",
    "\n",
    "scaler = MinMaxScaler().fit(interm_train[train_cols])\n",
    "train_df_nonstd = train_df\n",
    "train_df[train_cols] = scaler.transform(train_df[train_cols])\n",
    "target[train_cols] = scaler.transform(target[train_cols])"
   ]
  },
  {
   "cell_type": "code",
   "execution_count": 11,
   "metadata": {},
   "outputs": [
    {
     "name": "stdout",
     "output_type": "stream",
     "text": [
      "   Store  Dept  IsHoliday  MarkDown1  MarkDown2  MarkDown3  MarkDown4  \\\n",
      "0    0.0   0.0        0.0        0.0   0.002536   0.000205        0.0   \n",
      "1    0.0   0.0        1.0        0.0   0.002536   0.000205        0.0   \n",
      "2    0.0   0.0        0.0        0.0   0.002536   0.000205        0.0   \n",
      "3    0.0   0.0        0.0        0.0   0.002536   0.000205        0.0   \n",
      "4    0.0   0.0        0.0        0.0   0.002536   0.000205        0.0   \n",
      "\n",
      "   MarkDown5      Size      Week  Year  WeekOfYear  \n",
      "0        0.0  0.630267  0.078431   0.0    0.078431  \n",
      "1        0.0  0.630267  0.098039   0.0    0.098039  \n",
      "2        0.0  0.630267  0.117647   0.0    0.117647  \n",
      "3        0.0  0.630267  0.137255   0.0    0.137255  \n",
      "4        0.0  0.630267  0.156863   0.0    0.156863  \n",
      "------------------------------------------------------------/n\n",
      "   Store  Dept  IsHoliday  MarkDown1  MarkDown2  MarkDown3  MarkDown4  \\\n",
      "0    0.0   0.0        0.0   0.076330   0.051662   0.000564   0.053945   \n",
      "1    0.0   0.0        0.0   0.128841   0.034706   0.000490   0.068867   \n",
      "2    0.0   0.0        0.0   0.109381   0.005324   0.000938   0.016794   \n",
      "3    0.0   0.0        1.0   0.009968   0.002576   0.529010   0.003111   \n",
      "4    0.0   0.0        0.0   0.027751   0.002536   0.027301   0.002231   \n",
      "\n",
      "   MarkDown5      Size      Week  Year  WeekOfYear  \n",
      "0   0.025225  0.630267  0.843137   1.0    0.843137  \n",
      "1   0.056710  0.630267  0.862745   1.0    0.862745  \n",
      "2   0.060936  0.630267  0.882353   1.0    0.882353  \n",
      "3   0.002795  0.630267  0.901961   1.0    0.901961  \n",
      "4   0.064194  0.630267  0.921569   1.0    0.921569  \n",
      "------------------------------------------------------------/n\n",
      "0    24924.50\n",
      "1    46039.49\n",
      "2    41595.55\n",
      "3    19403.54\n",
      "4    21827.90\n",
      "Name: Weekly_Sales, dtype: float64\n"
     ]
    }
   ],
   "source": [
    "print(train_df.head())\n",
    "print(\"------------------------------------------------------------/n\")\n",
    "print(target.head())\n",
    "print(\"------------------------------------------------------------/n\")\n",
    "print(test_df.head())"
   ]
  },
  {
   "cell_type": "code",
   "execution_count": 12,
   "metadata": {},
   "outputs": [],
   "source": [
    "# Split Data\n",
    "from sklearn.model_selection import train_test_split\n",
    "\n",
    "X_train_std, X_test_std, y_train, y_test = train_test_split(\n",
    "    train_df, test_df, test_size=0.3, random_state=1\n",
    ")\n",
    "\n",
    "X_train, X_test, y_train, y_test = train_test_split(\n",
    "    train_df_nonstd, test_df, test_size=0.3, random_state=1\n",
    ")"
   ]
  },
  {
   "cell_type": "code",
   "execution_count": 13,
   "metadata": {},
   "outputs": [],
   "source": [
    "\n",
    "# Define the function to evaluate the models\n",
    "\n",
    "def WMAE(df, targets, predictions):\n",
    "    weights = df.IsHoliday.apply(lambda x: 5 if x else 1)\n",
    "    return np.round(np.sum(weights*abs(targets-predictions))/(np.sum(weights)), 2)\n",
    "\n"
   ]
  },
  {
   "cell_type": "code",
   "execution_count": 14,
   "metadata": {},
   "outputs": [
    {
     "name": "stdout",
     "output_type": "stream",
     "text": [
      "<class 'pandas.core.frame.DataFrame'>\n",
      "Int64Index: 295099 entries, 64010 to 128037\n",
      "Data columns (total 12 columns):\n",
      " #   Column      Non-Null Count   Dtype  \n",
      "---  ------      --------------   -----  \n",
      " 0   Store       295099 non-null  float64\n",
      " 1   Dept        295099 non-null  float64\n",
      " 2   IsHoliday   295099 non-null  float64\n",
      " 3   MarkDown1   295099 non-null  float64\n",
      " 4   MarkDown2   295099 non-null  float64\n",
      " 5   MarkDown3   295099 non-null  float64\n",
      " 6   MarkDown4   295099 non-null  float64\n",
      " 7   MarkDown5   295099 non-null  float64\n",
      " 8   Size        295099 non-null  float64\n",
      " 9   Week        295099 non-null  float64\n",
      " 10  Year        295099 non-null  float64\n",
      " 11  WeekOfYear  295099 non-null  float64\n",
      "dtypes: float64(12)\n",
      "memory usage: 29.3 MB\n",
      "<class 'pandas.core.frame.DataFrame'>\n",
      "Int64Index: 126471 entries, 367951 to 342931\n",
      "Data columns (total 12 columns):\n",
      " #   Column      Non-Null Count   Dtype  \n",
      "---  ------      --------------   -----  \n",
      " 0   Store       126471 non-null  float64\n",
      " 1   Dept        126471 non-null  float64\n",
      " 2   IsHoliday   126471 non-null  float64\n",
      " 3   MarkDown1   126471 non-null  float64\n",
      " 4   MarkDown2   126471 non-null  float64\n",
      " 5   MarkDown3   126471 non-null  float64\n",
      " 6   MarkDown4   126471 non-null  float64\n",
      " 7   MarkDown5   126471 non-null  float64\n",
      " 8   Size        126471 non-null  float64\n",
      " 9   Week        126471 non-null  float64\n",
      " 10  Year        126471 non-null  float64\n",
      " 11  WeekOfYear  126471 non-null  float64\n",
      "dtypes: float64(12)\n",
      "memory usage: 12.5 MB\n"
     ]
    }
   ],
   "source": [
    "X_train.info()\n",
    "\n",
    "X_test.info()"
   ]
  },
  {
   "attachments": {},
   "cell_type": "markdown",
   "metadata": {},
   "source": [
    "## Linear Regression"
   ]
  },
  {
   "cell_type": "code",
   "execution_count": 15,
   "metadata": {},
   "outputs": [
    {
     "name": "stdout",
     "output_type": "stream",
     "text": [
      "Fit Time:  0.1607663631439209\n",
      "Fit Time (STD): 0.1431887149810791\n",
      "R2 Scores\n",
      "---------------------\n",
      "\n",
      "R2 (train) for LR: 0.08507% \n",
      "R2 (test) for LR: 0.08605% \n",
      "R2 (train - STD) for LR: 0.08507% \n",
      "R2 (test - STD) for LR: 0.08605% \n",
      "\n",
      "\n",
      "MSE Scores\n",
      "---------------------\n",
      "\n",
      "MSE (train) for LR: 470713421.55355% \n",
      "MSE (test) for LR: 474215398.63295% \n",
      "MSE (train - STD) for LR: 470713421.55355% \n",
      "MSE (test - STD) for LR: 474215398.63295% \n"
     ]
    }
   ],
   "source": [
    "from sklearn.linear_model import LinearRegression\n",
    "from sklearn.metrics import r2_score, mean_squared_error\n",
    "import time\n",
    "\n",
    "lr = LinearRegression()\n",
    "st = time.time()\n",
    "lr.fit(X_train, y_train)\n",
    "en = time.time()\n",
    "fit_time = (en-st)\n",
    "\n",
    "pred_train = lr.predict(X_train)\n",
    "pred_test = lr.predict(X_test)\n",
    "\n",
    "lr = LinearRegression()\n",
    "st = time.time()\n",
    "lr.fit(X_train_std, y_train)\n",
    "en = time.time()\n",
    "fit_time_std = (en-st)\n",
    "\n",
    "pred_train_std = lr.predict(X_train_std)\n",
    "pred_test_std = lr.predict(X_test_std)\n",
    "\n",
    "## R2\n",
    "r2_train = r2_score(y_train, pred_train)\n",
    "r2_test = r2_score(y_test, pred_test)\n",
    "\n",
    "r2_train_std = r2_score(y_train, pred_train_std)\n",
    "r2_test_std = r2_score(y_test, pred_test_std)\n",
    "\n",
    "## TIME\n",
    "print('Fit Time: ', fit_time)\n",
    "print('Fit Time (STD):', fit_time_std)\n",
    "\n",
    "print(\"R2 Scores\\n---------------------\\n\")\n",
    "print(\"R2 (train) for %s: %0.5f%% \" % ('LR', r2_train))\n",
    "print(\"R2 (test) for %s: %0.5f%% \" % ('LR', r2_test))\n",
    "print(\"R2 (train - STD) for %s: %0.5f%% \" % ('LR', r2_train_std))\n",
    "print(\"R2 (test - STD) for %s: %0.5f%% \\n\\n\" % ('LR', r2_test_std))\n",
    "\n",
    "## MSE\n",
    "mse_train = mean_squared_error(y_train, pred_train)\n",
    "mse_test = mean_squared_error(y_test, pred_test)\n",
    "mse_train_std = mean_squared_error(y_train, pred_train_std)\n",
    "mse_test_std = mean_squared_error(y_test, pred_test_std)\n",
    "\n",
    "print(\"MSE Scores\\n---------------------\\n\")\n",
    "print(\"MSE (train) for %s: %0.5f%% \" % ('LR', mse_train))\n",
    "print(\"MSE (test) for %s: %0.5f%% \" % ('LR', mse_test))\n",
    "print(\"MSE (train - STD) for %s: %0.5f%% \" % ('LR', mse_train_std))\n",
    "print(\"MSE (test - STD) for %s: %0.5f%% \" % ('LR', mse_test_std))"
   ]
  },
  {
   "attachments": {},
   "cell_type": "markdown",
   "metadata": {},
   "source": [
    "## Ridge Regression"
   ]
  },
  {
   "cell_type": "code",
   "execution_count": 16,
   "metadata": {},
   "outputs": [
    {
     "name": "stdout",
     "output_type": "stream",
     "text": [
      "Fit Time:  0.03339529037475586\n",
      "Fit Time (STD): 0.024975299835205078\n",
      "R2 Scores\n",
      "---------------------\n",
      "\n",
      "R2 (train) for LR: 0.08507% \n",
      "R2 (test) for LR: 0.08605% \n",
      "R2 (train - STD) for LR: 0.08507% \n",
      "R2 (test - STD) for LR: 0.08605% \n",
      "\n",
      "\n",
      "MSE Scores\n",
      "---------------------\n",
      "\n",
      "MSE (train) for LR: 470713465.40145% \n",
      "MSE (test) for LR: 474214913.87595% \n",
      "MSE (train - STD) for LR: 470713465.40145% \n",
      "MSE (test - STD) for LR: 474214913.87595% \n"
     ]
    }
   ],
   "source": [
    "from sklearn.linear_model import Ridge\n",
    "from sklearn.metrics import r2_score, mean_squared_error\n",
    "import time\n",
    "\n",
    "lr = Ridge()\n",
    "st = time.time()\n",
    "lr.fit(X_train, y_train)\n",
    "en = time.time()\n",
    "fit_time = (en-st)\n",
    "\n",
    "pred_train = lr.predict(X_train)\n",
    "pred_test = lr.predict(X_test)\n",
    "\n",
    "lr = Ridge()\n",
    "st = time.time()\n",
    "lr.fit(X_train_std, y_train)\n",
    "en = time.time()\n",
    "fit_time_std = (en-st)\n",
    "\n",
    "pred_train_std = lr.predict(X_train_std)\n",
    "pred_test_std = lr.predict(X_test_std)\n",
    "\n",
    "## R2\n",
    "r2_train = r2_score(y_train, pred_train)\n",
    "r2_test = r2_score(y_test, pred_test)\n",
    "\n",
    "r2_train_std = r2_score(y_train, pred_train_std)\n",
    "r2_test_std = r2_score(y_test, pred_test_std)\n",
    "\n",
    "## TIME\n",
    "print('Fit Time: ', fit_time)\n",
    "print('Fit Time (STD):', fit_time_std)\n",
    "\n",
    "print(\"R2 Scores\\n---------------------\\n\")\n",
    "print(\"R2 (train) for %s: %0.5f%% \" % ('LR', r2_train))\n",
    "print(\"R2 (test) for %s: %0.5f%% \" % ('LR', r2_test))\n",
    "print(\"R2 (train - STD) for %s: %0.5f%% \" % ('LR', r2_train_std))\n",
    "print(\"R2 (test - STD) for %s: %0.5f%% \\n\\n\" % ('LR', r2_test_std))\n",
    "\n",
    "## MSE\n",
    "mse_train = mean_squared_error(y_train, pred_train)\n",
    "mse_test = mean_squared_error(y_test, pred_test)\n",
    "mse_train_std = mean_squared_error(y_train, pred_train_std)\n",
    "mse_test_std = mean_squared_error(y_test, pred_test_std)\n",
    "\n",
    "print(\"MSE Scores\\n---------------------\\n\")\n",
    "print(\"MSE (train) for %s: %0.5f%% \" % ('LR', mse_train))\n",
    "print(\"MSE (test) for %s: %0.5f%% \" % ('LR', mse_test))\n",
    "print(\"MSE (train - STD) for %s: %0.5f%% \" % ('LR', mse_train_std))\n",
    "print(\"MSE (test - STD) for %s: %0.5f%% \" % ('LR', mse_test_std))"
   ]
  }
 ],
 "metadata": {
  "kernelspec": {
   "display_name": "Python 3",
   "language": "python",
   "name": "python3"
  },
  "language_info": {
   "codemirror_mode": {
    "name": "ipython",
    "version": 3
   },
   "file_extension": ".py",
   "mimetype": "text/x-python",
   "name": "python",
   "nbconvert_exporter": "python",
   "pygments_lexer": "ipython3",
   "version": "3.10.5"
  },
  "orig_nbformat": 4
 },
 "nbformat": 4,
 "nbformat_minor": 2
}
