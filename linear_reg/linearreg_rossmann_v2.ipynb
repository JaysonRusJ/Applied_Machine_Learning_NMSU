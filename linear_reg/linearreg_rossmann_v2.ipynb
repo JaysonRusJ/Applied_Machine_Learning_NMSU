{
 "cells": [
  {
   "cell_type": "code",
   "execution_count": 2,
   "metadata": {},
   "outputs": [],
   "source": [
    "import sys\n",
    "sys.path.append('../')\n",
    "from fetch_data import data_fetcher\n",
    "import matplotlib.pyplot as plt\n",
    "import numpy as np"
   ]
  },
  {
   "cell_type": "code",
   "execution_count": 3,
   "metadata": {},
   "outputs": [
    {
     "name": "stderr",
     "output_type": "stream",
     "text": [
      "c:\\Users\\brock\\OneDrive\\Desktop\\AML487\\Project\\Applied_Machine_Learning_NMSU\\linear_reg\\..\\fetch_data.py:67: DtypeWarning: Columns (7) have mixed types. Specify dtype option on import or set low_memory=False.\n",
      "  train = pd.read_csv('../rossmann-store-sales/train.csv')\n"
     ]
    },
    {
     "name": "stdout",
     "output_type": "stream",
     "text": [
      "['Store', 'DayOfWeek', 'Sales', 'Customers', 'Open', 'Promo', 'StateHoliday', 'SchoolHoliday', 'StoreType', 'Assortment', 'CompetitionDistance', 'CompetitionOpenSinceMonth', 'CompetitionOpenSinceYear', 'Promo2', 'Promo2SinceWeek', 'Promo2SinceYear', 'Year', 'Month', 'Day', 'WeekOfYear']\n",
      "[[ 1.28047428e+00  1.00169426e+00  8.76868705e-01 ... -1.45708888e+00\n",
      "   1.74220148e+00 -1.28969717e+00]\n",
      " [ 6.59279533e-01  1.00169426e+00 -2.15352639e-01 ... -5.55027246e-01\n",
      "   2.62408422e-01 -5.27503038e-01]\n",
      " [-9.96204467e-01  1.50211022e+00 -1.36358533e+00 ... -1.15640167e+00\n",
      "   1.48578187e-01 -1.15111642e+00]\n",
      " ...\n",
      " [-1.29637795e-01  1.50211022e+00 -1.36358533e+00 ... -8.55714458e-01\n",
      "   1.51454101e+00 -7.35374165e-01]\n",
      " [-5.82003991e-02 -1.50038559e+00 -4.78175132e-01 ...  3.47034392e-01\n",
      "  -1.10355440e+00  3.03981471e-01]\n",
      " [-1.29748392e+00  8.62318437e-04  7.11669641e-02 ...  3.47034392e-01\n",
      "  -1.33121487e+00  2.34691096e-01]]\n"
     ]
    }
   ],
   "source": [
    "ro_data_pca = data_fetcher.fetch_rossmann(norm=True,pca=False,n_components=0, n_degrees=1)\n",
    "\n",
    "print(ro_data_pca[0])\n"
   ]
  },
  {
   "cell_type": "code",
   "execution_count": 5,
   "metadata": {},
   "outputs": [
    {
     "name": "stderr",
     "output_type": "stream",
     "text": [
      "c:\\Users\\brock\\OneDrive\\Desktop\\AML487\\Project\\Applied_Machine_Learning_NMSU\\linear_reg\\..\\fetch_data.py:67: DtypeWarning: Columns (7) have mixed types. Specify dtype option on import or set low_memory=False.\n",
      "  train = pd.read_csv('../rossmann-store-sales/train.csv')\n"
     ]
    },
    {
     "name": "stdout",
     "output_type": "stream",
     "text": [
      "['Store', 'DayOfWeek', 'Sales', 'Customers', 'Open', 'Promo', 'StateHoliday', 'SchoolHoliday', 'StoreType', 'Assortment', 'CompetitionDistance', 'CompetitionOpenSinceMonth', 'CompetitionOpenSinceYear', 'Promo2', 'Promo2SinceWeek', 'Promo2SinceYear', 'Year', 'Month', 'Day', 'WeekOfYear']\n"
     ]
    },
    {
     "name": "stderr",
     "output_type": "stream",
     "text": [
      "c:\\Users\\brock\\OneDrive\\Desktop\\AML487\\Project\\Applied_Machine_Learning_NMSU\\linear_reg\\..\\fetch_data.py:67: DtypeWarning: Columns (7) have mixed types. Specify dtype option on import or set low_memory=False.\n",
      "  train = pd.read_csv('../rossmann-store-sales/train.csv')\n"
     ]
    },
    {
     "name": "stdout",
     "output_type": "stream",
     "text": [
      "['Store', 'DayOfWeek', 'Sales', 'Customers', 'Open', 'Promo', 'StateHoliday', 'SchoolHoliday', 'StoreType', 'Assortment', 'CompetitionDistance', 'CompetitionOpenSinceMonth', 'CompetitionOpenSinceYear', 'Promo2', 'Promo2SinceWeek', 'Promo2SinceYear', 'Year', 'Month', 'Day', 'WeekOfYear']\n"
     ]
    },
    {
     "name": "stderr",
     "output_type": "stream",
     "text": [
      "c:\\Users\\brock\\OneDrive\\Desktop\\AML487\\Project\\Applied_Machine_Learning_NMSU\\linear_reg\\..\\fetch_data.py:67: DtypeWarning: Columns (7) have mixed types. Specify dtype option on import or set low_memory=False.\n",
      "  train = pd.read_csv('../rossmann-store-sales/train.csv')\n"
     ]
    },
    {
     "name": "stdout",
     "output_type": "stream",
     "text": [
      "['Store', 'DayOfWeek', 'Sales', 'Customers', 'Open', 'Promo', 'StateHoliday', 'SchoolHoliday', 'StoreType', 'Assortment', 'CompetitionDistance', 'CompetitionOpenSinceMonth', 'CompetitionOpenSinceYear', 'Promo2', 'Promo2SinceWeek', 'Promo2SinceYear', 'Year', 'Month', 'Day', 'WeekOfYear']\n"
     ]
    },
    {
     "name": "stderr",
     "output_type": "stream",
     "text": [
      "c:\\Users\\brock\\OneDrive\\Desktop\\AML487\\Project\\Applied_Machine_Learning_NMSU\\linear_reg\\..\\fetch_data.py:67: DtypeWarning: Columns (7) have mixed types. Specify dtype option on import or set low_memory=False.\n",
      "  train = pd.read_csv('../rossmann-store-sales/train.csv')\n"
     ]
    },
    {
     "name": "stdout",
     "output_type": "stream",
     "text": [
      "['Store', 'DayOfWeek', 'Sales', 'Customers', 'Open', 'Promo', 'StateHoliday', 'SchoolHoliday', 'StoreType', 'Assortment', 'CompetitionDistance', 'CompetitionOpenSinceMonth', 'CompetitionOpenSinceYear', 'Promo2', 'Promo2SinceWeek', 'Promo2SinceYear', 'Year', 'Month', 'Day', 'WeekOfYear']\n"
     ]
    },
    {
     "name": "stderr",
     "output_type": "stream",
     "text": [
      "c:\\Users\\brock\\OneDrive\\Desktop\\AML487\\Project\\Applied_Machine_Learning_NMSU\\linear_reg\\..\\fetch_data.py:67: DtypeWarning: Columns (7) have mixed types. Specify dtype option on import or set low_memory=False.\n",
      "  train = pd.read_csv('../rossmann-store-sales/train.csv')\n"
     ]
    },
    {
     "name": "stdout",
     "output_type": "stream",
     "text": [
      "['Store', 'DayOfWeek', 'Sales', 'Customers', 'Open', 'Promo', 'StateHoliday', 'SchoolHoliday', 'StoreType', 'Assortment', 'CompetitionDistance', 'CompetitionOpenSinceMonth', 'CompetitionOpenSinceYear', 'Promo2', 'Promo2SinceWeek', 'Promo2SinceYear', 'Year', 'Month', 'Day', 'WeekOfYear']\n"
     ]
    },
    {
     "name": "stderr",
     "output_type": "stream",
     "text": [
      "c:\\Users\\brock\\OneDrive\\Desktop\\AML487\\Project\\Applied_Machine_Learning_NMSU\\linear_reg\\..\\fetch_data.py:67: DtypeWarning: Columns (7) have mixed types. Specify dtype option on import or set low_memory=False.\n",
      "  train = pd.read_csv('../rossmann-store-sales/train.csv')\n"
     ]
    },
    {
     "name": "stdout",
     "output_type": "stream",
     "text": [
      "['Store', 'DayOfWeek', 'Sales', 'Customers', 'Open', 'Promo', 'StateHoliday', 'SchoolHoliday', 'StoreType', 'Assortment', 'CompetitionDistance', 'CompetitionOpenSinceMonth', 'CompetitionOpenSinceYear', 'Promo2', 'Promo2SinceWeek', 'Promo2SinceYear', 'Year', 'Month', 'Day', 'WeekOfYear']\n"
     ]
    },
    {
     "name": "stderr",
     "output_type": "stream",
     "text": [
      "c:\\Users\\brock\\OneDrive\\Desktop\\AML487\\Project\\Applied_Machine_Learning_NMSU\\linear_reg\\..\\fetch_data.py:67: DtypeWarning: Columns (7) have mixed types. Specify dtype option on import or set low_memory=False.\n",
      "  train = pd.read_csv('../rossmann-store-sales/train.csv')\n"
     ]
    },
    {
     "name": "stdout",
     "output_type": "stream",
     "text": [
      "['Store', 'DayOfWeek', 'Sales', 'Customers', 'Open', 'Promo', 'StateHoliday', 'SchoolHoliday', 'StoreType', 'Assortment', 'CompetitionDistance', 'CompetitionOpenSinceMonth', 'CompetitionOpenSinceYear', 'Promo2', 'Promo2SinceWeek', 'Promo2SinceYear', 'Year', 'Month', 'Day', 'WeekOfYear']\n"
     ]
    },
    {
     "name": "stderr",
     "output_type": "stream",
     "text": [
      "c:\\Users\\brock\\OneDrive\\Desktop\\AML487\\Project\\Applied_Machine_Learning_NMSU\\linear_reg\\..\\fetch_data.py:67: DtypeWarning: Columns (7) have mixed types. Specify dtype option on import or set low_memory=False.\n",
      "  train = pd.read_csv('../rossmann-store-sales/train.csv')\n"
     ]
    },
    {
     "name": "stdout",
     "output_type": "stream",
     "text": [
      "['Store', 'DayOfWeek', 'Sales', 'Customers', 'Open', 'Promo', 'StateHoliday', 'SchoolHoliday', 'StoreType', 'Assortment', 'CompetitionDistance', 'CompetitionOpenSinceMonth', 'CompetitionOpenSinceYear', 'Promo2', 'Promo2SinceWeek', 'Promo2SinceYear', 'Year', 'Month', 'Day', 'WeekOfYear']\n"
     ]
    },
    {
     "name": "stderr",
     "output_type": "stream",
     "text": [
      "c:\\Users\\brock\\OneDrive\\Desktop\\AML487\\Project\\Applied_Machine_Learning_NMSU\\linear_reg\\..\\fetch_data.py:67: DtypeWarning: Columns (7) have mixed types. Specify dtype option on import or set low_memory=False.\n",
      "  train = pd.read_csv('../rossmann-store-sales/train.csv')\n"
     ]
    },
    {
     "name": "stdout",
     "output_type": "stream",
     "text": [
      "['Store', 'DayOfWeek', 'Sales', 'Customers', 'Open', 'Promo', 'StateHoliday', 'SchoolHoliday', 'StoreType', 'Assortment', 'CompetitionDistance', 'CompetitionOpenSinceMonth', 'CompetitionOpenSinceYear', 'Promo2', 'Promo2SinceWeek', 'Promo2SinceYear', 'Year', 'Month', 'Day', 'WeekOfYear']\n"
     ]
    },
    {
     "name": "stderr",
     "output_type": "stream",
     "text": [
      "c:\\Users\\brock\\OneDrive\\Desktop\\AML487\\Project\\Applied_Machine_Learning_NMSU\\linear_reg\\..\\fetch_data.py:67: DtypeWarning: Columns (7) have mixed types. Specify dtype option on import or set low_memory=False.\n",
      "  train = pd.read_csv('../rossmann-store-sales/train.csv')\n"
     ]
    },
    {
     "name": "stdout",
     "output_type": "stream",
     "text": [
      "['Store', 'DayOfWeek', 'Sales', 'Customers', 'Open', 'Promo', 'StateHoliday', 'SchoolHoliday', 'StoreType', 'Assortment', 'CompetitionDistance', 'CompetitionOpenSinceMonth', 'CompetitionOpenSinceYear', 'Promo2', 'Promo2SinceWeek', 'Promo2SinceYear', 'Year', 'Month', 'Day', 'WeekOfYear']\n"
     ]
    },
    {
     "name": "stderr",
     "output_type": "stream",
     "text": [
      "c:\\Users\\brock\\OneDrive\\Desktop\\AML487\\Project\\Applied_Machine_Learning_NMSU\\linear_reg\\..\\fetch_data.py:67: DtypeWarning: Columns (7) have mixed types. Specify dtype option on import or set low_memory=False.\n",
      "  train = pd.read_csv('../rossmann-store-sales/train.csv')\n"
     ]
    },
    {
     "name": "stdout",
     "output_type": "stream",
     "text": [
      "['Store', 'DayOfWeek', 'Sales', 'Customers', 'Open', 'Promo', 'StateHoliday', 'SchoolHoliday', 'StoreType', 'Assortment', 'CompetitionDistance', 'CompetitionOpenSinceMonth', 'CompetitionOpenSinceYear', 'Promo2', 'Promo2SinceWeek', 'Promo2SinceYear', 'Year', 'Month', 'Day', 'WeekOfYear']\n"
     ]
    },
    {
     "name": "stderr",
     "output_type": "stream",
     "text": [
      "c:\\Users\\brock\\OneDrive\\Desktop\\AML487\\Project\\Applied_Machine_Learning_NMSU\\linear_reg\\..\\fetch_data.py:67: DtypeWarning: Columns (7) have mixed types. Specify dtype option on import or set low_memory=False.\n",
      "  train = pd.read_csv('../rossmann-store-sales/train.csv')\n"
     ]
    },
    {
     "name": "stdout",
     "output_type": "stream",
     "text": [
      "['Store', 'DayOfWeek', 'Sales', 'Customers', 'Open', 'Promo', 'StateHoliday', 'SchoolHoliday', 'StoreType', 'Assortment', 'CompetitionDistance', 'CompetitionOpenSinceMonth', 'CompetitionOpenSinceYear', 'Promo2', 'Promo2SinceWeek', 'Promo2SinceYear', 'Year', 'Month', 'Day', 'WeekOfYear']\n"
     ]
    },
    {
     "name": "stderr",
     "output_type": "stream",
     "text": [
      "c:\\Users\\brock\\OneDrive\\Desktop\\AML487\\Project\\Applied_Machine_Learning_NMSU\\linear_reg\\..\\fetch_data.py:67: DtypeWarning: Columns (7) have mixed types. Specify dtype option on import or set low_memory=False.\n",
      "  train = pd.read_csv('../rossmann-store-sales/train.csv')\n"
     ]
    },
    {
     "name": "stdout",
     "output_type": "stream",
     "text": [
      "['Store', 'DayOfWeek', 'Sales', 'Customers', 'Open', 'Promo', 'StateHoliday', 'SchoolHoliday', 'StoreType', 'Assortment', 'CompetitionDistance', 'CompetitionOpenSinceMonth', 'CompetitionOpenSinceYear', 'Promo2', 'Promo2SinceWeek', 'Promo2SinceYear', 'Year', 'Month', 'Day', 'WeekOfYear']\n"
     ]
    },
    {
     "name": "stderr",
     "output_type": "stream",
     "text": [
      "c:\\Users\\brock\\OneDrive\\Desktop\\AML487\\Project\\Applied_Machine_Learning_NMSU\\linear_reg\\..\\fetch_data.py:67: DtypeWarning: Columns (7) have mixed types. Specify dtype option on import or set low_memory=False.\n",
      "  train = pd.read_csv('../rossmann-store-sales/train.csv')\n"
     ]
    },
    {
     "name": "stdout",
     "output_type": "stream",
     "text": [
      "['Store', 'DayOfWeek', 'Sales', 'Customers', 'Open', 'Promo', 'StateHoliday', 'SchoolHoliday', 'StoreType', 'Assortment', 'CompetitionDistance', 'CompetitionOpenSinceMonth', 'CompetitionOpenSinceYear', 'Promo2', 'Promo2SinceWeek', 'Promo2SinceYear', 'Year', 'Month', 'Day', 'WeekOfYear']\n"
     ]
    },
    {
     "name": "stderr",
     "output_type": "stream",
     "text": [
      "c:\\Users\\brock\\OneDrive\\Desktop\\AML487\\Project\\Applied_Machine_Learning_NMSU\\linear_reg\\..\\fetch_data.py:67: DtypeWarning: Columns (7) have mixed types. Specify dtype option on import or set low_memory=False.\n",
      "  train = pd.read_csv('../rossmann-store-sales/train.csv')\n"
     ]
    },
    {
     "name": "stdout",
     "output_type": "stream",
     "text": [
      "['Store', 'DayOfWeek', 'Sales', 'Customers', 'Open', 'Promo', 'StateHoliday', 'SchoolHoliday', 'StoreType', 'Assortment', 'CompetitionDistance', 'CompetitionOpenSinceMonth', 'CompetitionOpenSinceYear', 'Promo2', 'Promo2SinceWeek', 'Promo2SinceYear', 'Year', 'Month', 'Day', 'WeekOfYear']\n"
     ]
    },
    {
     "name": "stderr",
     "output_type": "stream",
     "text": [
      "c:\\Users\\brock\\OneDrive\\Desktop\\AML487\\Project\\Applied_Machine_Learning_NMSU\\linear_reg\\..\\fetch_data.py:67: DtypeWarning: Columns (7) have mixed types. Specify dtype option on import or set low_memory=False.\n",
      "  train = pd.read_csv('../rossmann-store-sales/train.csv')\n"
     ]
    },
    {
     "name": "stdout",
     "output_type": "stream",
     "text": [
      "['Store', 'DayOfWeek', 'Sales', 'Customers', 'Open', 'Promo', 'StateHoliday', 'SchoolHoliday', 'StoreType', 'Assortment', 'CompetitionDistance', 'CompetitionOpenSinceMonth', 'CompetitionOpenSinceYear', 'Promo2', 'Promo2SinceWeek', 'Promo2SinceYear', 'Year', 'Month', 'Day', 'WeekOfYear']\n"
     ]
    },
    {
     "name": "stderr",
     "output_type": "stream",
     "text": [
      "c:\\Users\\brock\\OneDrive\\Desktop\\AML487\\Project\\Applied_Machine_Learning_NMSU\\linear_reg\\..\\fetch_data.py:67: DtypeWarning: Columns (7) have mixed types. Specify dtype option on import or set low_memory=False.\n",
      "  train = pd.read_csv('../rossmann-store-sales/train.csv')\n"
     ]
    },
    {
     "name": "stdout",
     "output_type": "stream",
     "text": [
      "['Store', 'DayOfWeek', 'Sales', 'Customers', 'Open', 'Promo', 'StateHoliday', 'SchoolHoliday', 'StoreType', 'Assortment', 'CompetitionDistance', 'CompetitionOpenSinceMonth', 'CompetitionOpenSinceYear', 'Promo2', 'Promo2SinceWeek', 'Promo2SinceYear', 'Year', 'Month', 'Day', 'WeekOfYear']\n"
     ]
    },
    {
     "data": {
      "text/plain": [
       "Text(0.5, 1.0, 'MSE by number of Componenets')"
      ]
     },
     "execution_count": 5,
     "metadata": {},
     "output_type": "execute_result"
    },
    {
     "data": {
      "image/png": "[encoded data removed]",
      "text/plain": [
       "<Figure size 864x432 with 2 Axes>"
      ]
     },
     "metadata": {
      "needs_background": "light"
     },
     "output_type": "display_data"
    }
   ],
   "source": [
    "from sklearn.linear_model import LinearRegression\n",
    "from sklearn.metrics import r2_score, mean_squared_error\n",
    "import time\n",
    "\n",
    "## Rossmann\n",
    "times = []\n",
    "r2_train = []\n",
    "r2_test = []\n",
    "mse_train = []\n",
    "mse_test = []\n",
    "comp_num = []\n",
    "\n",
    "## For each of our features \n",
    "for i in range(1,18):\n",
    "    ## Dimensioanlly Reduced data\n",
    "    ros_data_pca = data_fetcher.fetch_rossmann(norm=True,pca=True,n_components=i, n_degrees=1)\n",
    "    X_train_pca, X_test_pca, y_train_pca, y_test_pca = ros_data_pca\n",
    "\n",
    "    lr = LinearRegression() \n",
    "    st = time.time()\n",
    "    lr.fit(X_train_pca, y_train_pca)\n",
    "    en = time.time()\n",
    "    fit_time_pca = (en-st)\n",
    "\n",
    "    pred_train_pca = lr.predict(X_train_pca)\n",
    "    pred_test_pca = lr.predict(X_test_pca)\n",
    "\n",
    "    r2_train_pca = r2_score(y_train_pca, pred_train_pca)\n",
    "    r2_train.append(r2_train_pca)\n",
    "    r2_test_pca = r2_score(y_test_pca, pred_test_pca)\n",
    "    r2_test.append(r2_test_pca)\n",
    "\n",
    "    mse_train_pca = mean_squared_error(y_train_pca, pred_train_pca)\n",
    "    mse_train.append(mse_train_pca)\n",
    "    mse_test_pca = mean_squared_error(y_test_pca, pred_test_pca)\n",
    "    mse_test.append(mse_test_pca)\n",
    "\n",
    "    comp_num.append(i)\n",
    "    \n",
    "fig, ax = plt.subplots(nrows=1, ncols=2, figsize=(12,6))\n",
    "\n",
    "# plot r2 results\n",
    "ax[0].plot(comp_num, r2_train, marker='o', label=\"Training\")\n",
    "ax[0].plot(comp_num, r2_test, marker='o',color='red', label=\"Testing\")\n",
    "ax[0].set_xticks(comp_num)\n",
    "ax[0].set_ylabel(\"R^2\")\n",
    "ax[0].set_xlabel(\"Number of Componenents\")\n",
    "ax[0].set_title(\"R^2 by number of Componenets\")\n",
    "    \n",
    "# plot r2 results\n",
    "ax[1].plot(comp_num, mse_train, marker='o', label=\"Training\")\n",
    "ax[1].plot(comp_num, mse_test, marker='o',color='red', label=\"Testing\")\n",
    "ax[1].set_xticks(comp_num)\n",
    "ax[1].set_ylabel(\"MSE\")\n",
    "ax[1].set_xlabel(\"Number of Componenents\")\n",
    "ax[1].set_title(\"MSE by number of Componenets\")"
   ]
  }
 ],
 "metadata": {
  "kernelspec": {
   "display_name": "Python 3",
   "language": "python",
   "name": "python3"
  },
  "language_info": {
   "codemirror_mode": {
    "name": "ipython",
    "version": 3
   },
   "file_extension": ".py",
   "mimetype": "text/x-python",
   "name": "python",
   "nbconvert_exporter": "python",
   "pygments_lexer": "ipython3",
   "version": "3.10.5"
  },
  "orig_nbformat": 4
 },
 "nbformat": 4,
 "nbformat_minor": 2
}
